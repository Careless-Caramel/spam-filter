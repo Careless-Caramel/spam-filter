{
 "cells": [
  {
   "attachments": {},
   "cell_type": "markdown",
   "id": "1004942e",
   "metadata": {},
   "source": [
    "# **Spam Filter Using Naive Bayes Classification**"
   ]
  },
  {
   "cell_type": "code",
   "execution_count": 1,
   "id": "9e61527d",
   "metadata": {},
   "outputs": [],
   "source": [
    "import pandas as pd\n",
    "import numpy as np\n",
    "import matplotlib.pyplot as plt\n",
    "import seaborn as sns\n",
    "from termcolor import colored as cl\n",
    "from sklearn.model_selection import train_test_split\n",
    "from sklearn.metrics import accuracy_score,classification_report,confusion_matrix"
   ]
  },
  {
   "cell_type": "code",
   "execution_count": 2,
   "id": "dfe85a58",
   "metadata": {},
   "outputs": [],
   "source": [
    "df = pd.read_csv(\"SPAM-text.csv\")"
   ]
  },
  {
   "cell_type": "code",
   "execution_count": 3,
   "id": "d4b047eb",
   "metadata": {},
   "outputs": [
    {
     "data": {
      "text/html": [
       "<div>\n",
       "<style scoped>\n",
       "    .dataframe tbody tr th:only-of-type {\n",
       "        vertical-align: middle;\n",
       "    }\n",
       "\n",
       "    .dataframe tbody tr th {\n",
       "        vertical-align: top;\n",
       "    }\n",
       "\n",
       "    .dataframe thead th {\n",
       "        text-align: right;\n",
       "    }\n",
       "</style>\n",
       "<table border=\"1\" class=\"dataframe\">\n",
       "  <thead>\n",
       "    <tr style=\"text-align: right;\">\n",
       "      <th></th>\n",
       "      <th>Category</th>\n",
       "      <th>Message</th>\n",
       "    </tr>\n",
       "  </thead>\n",
       "  <tbody>\n",
       "    <tr>\n",
       "      <th>0</th>\n",
       "      <td>ham</td>\n",
       "      <td>Go until jurong point, crazy.. Available only ...</td>\n",
       "    </tr>\n",
       "    <tr>\n",
       "      <th>1</th>\n",
       "      <td>ham</td>\n",
       "      <td>Ok lar... Joking wif u oni...</td>\n",
       "    </tr>\n",
       "    <tr>\n",
       "      <th>2</th>\n",
       "      <td>spam</td>\n",
       "      <td>Free entry in 2 a wkly comp to win FA Cup fina...</td>\n",
       "    </tr>\n",
       "    <tr>\n",
       "      <th>3</th>\n",
       "      <td>ham</td>\n",
       "      <td>U dun say so early hor... U c already then say...</td>\n",
       "    </tr>\n",
       "    <tr>\n",
       "      <th>4</th>\n",
       "      <td>ham</td>\n",
       "      <td>Nah I don't think he goes to usf, he lives aro...</td>\n",
       "    </tr>\n",
       "  </tbody>\n",
       "</table>\n",
       "</div>"
      ],
      "text/plain": [
       "  Category                                            Message\n",
       "0      ham  Go until jurong point, crazy.. Available only ...\n",
       "1      ham                      Ok lar... Joking wif u oni...\n",
       "2     spam  Free entry in 2 a wkly comp to win FA Cup fina...\n",
       "3      ham  U dun say so early hor... U c already then say...\n",
       "4      ham  Nah I don't think he goes to usf, he lives aro..."
      ]
     },
     "execution_count": 3,
     "metadata": {},
     "output_type": "execute_result"
    }
   ],
   "source": [
    "df.head()"
   ]
  },
  {
   "cell_type": "code",
   "execution_count": 4,
   "id": "c10d26e5",
   "metadata": {},
   "outputs": [
    {
     "data": {
      "text/html": [
       "<div>\n",
       "<style scoped>\n",
       "    .dataframe tbody tr th:only-of-type {\n",
       "        vertical-align: middle;\n",
       "    }\n",
       "\n",
       "    .dataframe tbody tr th {\n",
       "        vertical-align: top;\n",
       "    }\n",
       "\n",
       "    .dataframe thead th {\n",
       "        text-align: right;\n",
       "    }\n",
       "</style>\n",
       "<table border=\"1\" class=\"dataframe\">\n",
       "  <thead>\n",
       "    <tr style=\"text-align: right;\">\n",
       "      <th></th>\n",
       "      <th>Category</th>\n",
       "      <th>Message</th>\n",
       "    </tr>\n",
       "  </thead>\n",
       "  <tbody>\n",
       "    <tr>\n",
       "      <th>5567</th>\n",
       "      <td>spam</td>\n",
       "      <td>This is the 2nd time we have tried 2 contact u...</td>\n",
       "    </tr>\n",
       "    <tr>\n",
       "      <th>5568</th>\n",
       "      <td>ham</td>\n",
       "      <td>Will ü b going to esplanade fr home?</td>\n",
       "    </tr>\n",
       "    <tr>\n",
       "      <th>5569</th>\n",
       "      <td>ham</td>\n",
       "      <td>Pity, * was in mood for that. So...any other s...</td>\n",
       "    </tr>\n",
       "    <tr>\n",
       "      <th>5570</th>\n",
       "      <td>ham</td>\n",
       "      <td>The guy did some bitching but I acted like i'd...</td>\n",
       "    </tr>\n",
       "    <tr>\n",
       "      <th>5571</th>\n",
       "      <td>ham</td>\n",
       "      <td>Rofl. Its true to its name</td>\n",
       "    </tr>\n",
       "  </tbody>\n",
       "</table>\n",
       "</div>"
      ],
      "text/plain": [
       "     Category                                            Message\n",
       "5567     spam  This is the 2nd time we have tried 2 contact u...\n",
       "5568      ham               Will ü b going to esplanade fr home?\n",
       "5569      ham  Pity, * was in mood for that. So...any other s...\n",
       "5570      ham  The guy did some bitching but I acted like i'd...\n",
       "5571      ham                         Rofl. Its true to its name"
      ]
     },
     "execution_count": 4,
     "metadata": {},
     "output_type": "execute_result"
    }
   ],
   "source": [
    "df.tail()"
   ]
  },
  {
   "cell_type": "code",
   "execution_count": 5,
   "id": "3639780b",
   "metadata": {},
   "outputs": [
    {
     "name": "stdout",
     "output_type": "stream",
     "text": [
      "<class 'pandas.core.frame.DataFrame'>\n",
      "RangeIndex: 5572 entries, 0 to 5571\n",
      "Data columns (total 2 columns):\n",
      " #   Column    Non-Null Count  Dtype \n",
      "---  ------    --------------  ----- \n",
      " 0   Category  5572 non-null   object\n",
      " 1   Message   5572 non-null   object\n",
      "dtypes: object(2)\n",
      "memory usage: 87.2+ KB\n"
     ]
    }
   ],
   "source": [
    "df.info()"
   ]
  },
  {
   "cell_type": "code",
   "execution_count": 6,
   "id": "dc45e2f4",
   "metadata": {},
   "outputs": [
    {
     "data": {
      "text/html": [
       "<div>\n",
       "<style scoped>\n",
       "    .dataframe tbody tr th:only-of-type {\n",
       "        vertical-align: middle;\n",
       "    }\n",
       "\n",
       "    .dataframe tbody tr th {\n",
       "        vertical-align: top;\n",
       "    }\n",
       "\n",
       "    .dataframe thead th {\n",
       "        text-align: right;\n",
       "    }\n",
       "</style>\n",
       "<table border=\"1\" class=\"dataframe\">\n",
       "  <thead>\n",
       "    <tr style=\"text-align: right;\">\n",
       "      <th></th>\n",
       "      <th>Category</th>\n",
       "      <th>Message</th>\n",
       "    </tr>\n",
       "  </thead>\n",
       "  <tbody>\n",
       "    <tr>\n",
       "      <th>count</th>\n",
       "      <td>5572</td>\n",
       "      <td>5572</td>\n",
       "    </tr>\n",
       "    <tr>\n",
       "      <th>unique</th>\n",
       "      <td>2</td>\n",
       "      <td>5157</td>\n",
       "    </tr>\n",
       "    <tr>\n",
       "      <th>top</th>\n",
       "      <td>ham</td>\n",
       "      <td>Sorry, I'll call later</td>\n",
       "    </tr>\n",
       "    <tr>\n",
       "      <th>freq</th>\n",
       "      <td>4825</td>\n",
       "      <td>30</td>\n",
       "    </tr>\n",
       "  </tbody>\n",
       "</table>\n",
       "</div>"
      ],
      "text/plain": [
       "       Category                 Message\n",
       "count      5572                    5572\n",
       "unique        2                    5157\n",
       "top         ham  Sorry, I'll call later\n",
       "freq       4825                      30"
      ]
     },
     "execution_count": 6,
     "metadata": {},
     "output_type": "execute_result"
    }
   ],
   "source": [
    "df.describe()"
   ]
  },
  {
   "cell_type": "code",
   "execution_count": 7,
   "id": "63a67ed0",
   "metadata": {},
   "outputs": [
    {
     "name": "stdout",
     "output_type": "stream",
     "text": [
      "\u001b[1m----------------------------------------------\u001b[0m\n",
      "\u001b[1m\u001b[36mThe Dimension of the dataset is : (5572, 2)\u001b[0m\n",
      "\u001b[1m\u001b[36mThe Null Values in the dataset is : 0\u001b[0m\n",
      "\u001b[1m\u001b[36mThe Duplicate Values in the dataset is : 415\u001b[0m\n"
     ]
    },
    {
     "data": {
      "text/plain": [
       "0       Go until jurong point, crazy.. Available only ...\n",
       "1                           Ok lar... Joking wif u oni...\n",
       "2       Free entry in 2 a wkly comp to win FA Cup fina...\n",
       "3       U dun say so early hor... U c already then say...\n",
       "4       Nah I don't think he goes to usf, he lives aro...\n",
       "                              ...                        \n",
       "5567    This is the 2nd time we have tried 2 contact u...\n",
       "5568                 Will ü b going to esplanade fr home?\n",
       "5569    Pity, * was in mood for that. So...any other s...\n",
       "5570    The guy did some bitching but I acted like i'd...\n",
       "5571                           Rofl. Its true to its name\n",
       "Name: Message, Length: 5157, dtype: object"
      ]
     },
     "execution_count": 7,
     "metadata": {},
     "output_type": "execute_result"
    }
   ],
   "source": [
    "ATTRS = [\"bold\"]\n",
    "COLOR = \"cyan\"\n",
    "\n",
    "print(cl(\"----------------------------------------------\",attrs=['bold']))\n",
    "print(\n",
    "    cl(\n",
    "        \"The Dimension of the dataset is : {}\".format(df.shape),\n",
    "        attrs=ATTRS,\n",
    "        color=COLOR,\n",
    "    )\n",
    ")\n",
    "\n",
    "print(\n",
    "    cl(\n",
    "        \"The Null Values in the dataset is : {}\".format(df.isnull().sum().sum()),\n",
    "        attrs=ATTRS,\n",
    "        color=COLOR,\n",
    "    )\n",
    ")\n",
    "\n",
    "print(\n",
    "    cl(\n",
    "        \"The Duplicate Values in the dataset is : {}\".format(df.duplicated().sum()),\n",
    "        attrs=ATTRS,\n",
    "        color=COLOR,\n",
    "    )\n",
    ")\n",
    "\n",
    "# DROP DUPLICATES\n",
    "df.drop_duplicates(inplace=True)\n",
    "df[\"Message\"]"
   ]
  },
  {
   "attachments": {},
   "cell_type": "markdown",
   "id": "0250cb64",
   "metadata": {},
   "source": [
    "Since there were duplicates in the dataset, I dropped them.\n",
    "\n"
   ]
  },
  {
   "cell_type": "code",
   "execution_count": 8,
   "id": "ee487ca9",
   "metadata": {},
   "outputs": [
    {
     "data": {
      "text/plain": [
       "ham     4516\n",
       "spam     641\n",
       "Name: Category, dtype: int64"
      ]
     },
     "execution_count": 8,
     "metadata": {},
     "output_type": "execute_result"
    }
   ],
   "source": [
    "df['Category'].value_counts()"
   ]
  },
  {
   "cell_type": "code",
   "execution_count": 9,
   "id": "26578081",
   "metadata": {},
   "outputs": [
    {
     "data": {
      "image/png": "[encoded data removed]",
      "text/plain": [
       "<Figure size 640x480 with 1 Axes>"
      ]
     },
     "metadata": {},
     "output_type": "display_data"
    }
   ],
   "source": [
    "sns.countplot(x = 'Category',data=df)\n",
    "plt.show()"
   ]
  },
  {
   "cell_type": "code",
   "execution_count": 10,
   "id": "eb04a371",
   "metadata": {},
   "outputs": [
    {
     "data": {
      "text/plain": [
       "0       Go until jurong point, crazy.. Available only ...\n",
       "1                           Ok lar... Joking wif u oni...\n",
       "2       Free entry in 2 a wkly comp to win FA Cup fina...\n",
       "3       U dun say so early hor... U c already then say...\n",
       "4       Nah I don't think he goes to usf, he lives aro...\n",
       "                              ...                        \n",
       "5567    This is the 2nd time we have tried 2 contact u...\n",
       "5568                 Will ü b going to esplanade fr home?\n",
       "5569    Pity, * was in mood for that. So...any other s...\n",
       "5570    The guy did some bitching but I acted like i'd...\n",
       "5571                           Rofl. Its true to its name\n",
       "Name: Message, Length: 5157, dtype: object"
      ]
     },
     "execution_count": 10,
     "metadata": {},
     "output_type": "execute_result"
    }
   ],
   "source": [
    "msg = df['Message']\n",
    "msg"
   ]
  },
  {
   "cell_type": "code",
   "execution_count": 11,
   "id": "b16cf332",
   "metadata": {},
   "outputs": [
    {
     "data": {
      "text/plain": [
       "0       Go until jurong point , crazy .. Available onl...\n",
       "1                         Ok lar ... Joking wif u oni ...\n",
       "2       Free entry in 2 a wkly comp to win FA Cup fina...\n",
       "3       U dun say so early hor ... U c already then sa...\n",
       "4       Nah I don't think he goes to usf , he lives ar...\n",
       "                              ...                        \n",
       "5567    This is the 2nd time we have tried 2 contact u...\n",
       "5568                Will ü b going to esplanade fr home ?\n",
       "5569    Pity , * was in mood for that . So ... any oth...\n",
       "5570    The guy did some bitching but I acted like i'd...\n",
       "5571                          Rofl . Its true to its name\n",
       "Name: Message, Length: 5157, dtype: object"
      ]
     },
     "execution_count": 11,
     "metadata": {},
     "output_type": "execute_result"
    }
   ],
   "source": [
    "from nltk import TweetTokenizer\n",
    "tk = TweetTokenizer() \n",
    "msg = msg.apply(lambda x:tk.tokenize(x)).apply(lambda x:\" \".join(x))\n",
    "msg"
   ]
  },
  {
   "attachments": {},
   "cell_type": "markdown",
   "id": "dfe72dbd",
   "metadata": {},
   "source": [
    "Lets ***cleanup*** the data. We need to remove *commas*, *period*, *apostrophe*, *qoutation* etc and convert all the letters in the message to ***lower cases***. "
   ]
  },
  {
   "cell_type": "code",
   "execution_count": 12,
   "id": "a912e411",
   "metadata": {},
   "outputs": [
    {
     "data": {
      "text/plain": [
       "0       Go until jurong point crazy Available only in ...\n",
       "1                                Ok lar Joking wif u oni \n",
       "2       Free entry in 2 a wkly comp to win FA Cup fina...\n",
       "3            U dun say so early hor U c already then say \n",
       "4       Nah I don t think he goes to usf he lives arou...\n",
       "                              ...                        \n",
       "5567    This is the 2nd time we have tried 2 contact u...\n",
       "5568                   Will b going to esplanade fr home \n",
       "5569    Pity was in mood for that So any other suggest...\n",
       "5570    The guy did some bitching but I acted like i d...\n",
       "5571                            Rofl Its true to its name\n",
       "Name: Message, Length: 5157, dtype: object"
      ]
     },
     "execution_count": 12,
     "metadata": {},
     "output_type": "execute_result"
    }
   ],
   "source": [
    "msg  = msg.str.replace('[^a-zA-Z0-9]+',\" \",regex=True)\n",
    "msg"
   ]
  },
  {
   "cell_type": "code",
   "execution_count": 13,
   "id": "855f0d11",
   "metadata": {},
   "outputs": [
    {
     "data": {
      "text/plain": [
       "0       until jurong point crazy Available only bugis ...\n",
       "1                                      lar Joking wif oni\n",
       "2       Free entry wkly comp win Cup final tkts 21st M...\n",
       "3                      dun say early hor already then say\n",
       "4         Nah don think goes usf lives around here though\n",
       "                              ...                        \n",
       "5567    This the 2nd time have tried contact have won ...\n",
       "5568                            Will going esplanade home\n",
       "5569         Pity was mood for that any other suggestions\n",
       "5570    The guy did some bitching but acted like inter...\n",
       "5571                               Rofl Its true its name\n",
       "Name: Message, Length: 5157, dtype: object"
      ]
     },
     "execution_count": 13,
     "metadata": {},
     "output_type": "execute_result"
    }
   ],
   "source": [
    "from nltk.tokenize import word_tokenize\n",
    "msg = msg.apply(lambda x:\" \".join([w for w in word_tokenize(x) if len(w)>=3]))\n",
    "msg"
   ]
  },
  {
   "cell_type": "code",
   "execution_count": 14,
   "id": "d74450e3",
   "metadata": {},
   "outputs": [
    {
     "data": {
      "text/plain": [
       "0       until jurong point crazi avail onli bugi great...\n",
       "1                                        lar joke wif oni\n",
       "2       free entri wkli comp win cup final tkts 21st m...\n",
       "3                      dun say earli hor alreadi then say\n",
       "4           nah don think goe usf live around here though\n",
       "                              ...                        \n",
       "5567    this the 2nd time have tri contact have won th...\n",
       "5568                                will go esplanad home\n",
       "5569             piti was mood for that ani other suggest\n",
       "5570    the guy did some bitch but act like interest b...\n",
       "5571                                 rofl it true it name\n",
       "Name: Message, Length: 5157, dtype: object"
      ]
     },
     "execution_count": 14,
     "metadata": {},
     "output_type": "execute_result"
    }
   ],
   "source": [
    "from nltk import TweetTokenizer\n",
    "tk = TweetTokenizer() \n",
    "from nltk.stem import SnowballStemmer\n",
    "stemmer = SnowballStemmer('english')\n",
    "msg = msg.apply(lambda x:[stemmer.stem(i.lower()) for i in tk.tokenize(x)]).apply(lambda x:\" \".join(x))\n",
    "msg"
   ]
  },
  {
   "cell_type": "code",
   "execution_count": 15,
   "id": "84207afe",
   "metadata": {},
   "outputs": [
    {
     "name": "stdout",
     "output_type": "stream",
     "text": [
      "  (0, 6663)\t0.19248539629405484\n",
      "  (0, 1006)\t0.3482567760946992\n",
      "  (0, 2981)\t0.1609693750205711\n",
      "  (0, 6162)\t0.16636523872159056\n",
      "  (0, 1775)\t0.2937364096459484\n",
      "  (0, 1546)\t0.3323105911456516\n",
      "  (0, 6843)\t0.24308750729136344\n",
      "  (0, 3018)\t0.19401289435262045\n",
      "  (0, 1548)\t0.2937364096459484\n",
      "  (0, 4528)\t0.16895486109715593\n",
      "  (0, 1194)\t0.2640919733437643\n",
      "  (0, 1975)\t0.26901440584519726\n",
      "  (0, 4827)\t0.23800585136940136\n",
      "  (0, 3589)\t0.3482567760946992\n",
      "  (0, 6481)\t0.2444675833191814\n",
      "  (1, 4526)\t0.5869126419978632\n",
      "  (1, 6766)\t0.4622388118638354\n",
      "  (1, 3558)\t0.5009220368833591\n",
      "  (1, 3722)\t0.4369736198381139\n",
      "  (2, 4603)\t0.16460518761498844\n",
      "  (2, 70)\t0.268872740333254\n",
      "  (2, 1079)\t0.18664710864239029\n",
      "  (2, 5085)\t0.18027927870647353\n",
      "  (2, 6400)\t0.14009160795411812\n",
      "  (2, 5838)\t0.22678011978058826\n",
      "  :\t:\n",
      "  (5154, 6658)\t0.25438525855641886\n",
      "  (5154, 6143)\t0.1927247992001735\n",
      "  (5154, 2748)\t0.1866850000395078\n",
      "  (5155, 1392)\t0.3349945096997562\n",
      "  (5155, 870)\t0.34178705835675427\n",
      "  (5155, 3435)\t0.30445143356353327\n",
      "  (5155, 3060)\t0.24032515563555154\n",
      "  (5155, 2880)\t0.31507808150946587\n",
      "  (5155, 2427)\t0.2789021116556022\n",
      "  (5155, 1574)\t0.23612537504065836\n",
      "  (5155, 5696)\t0.2341666372622063\n",
      "  (5155, 1570)\t0.1565100343634835\n",
      "  (5155, 2184)\t0.21165744100981107\n",
      "  (5155, 4357)\t0.23959680278043843\n",
      "  (5155, 6145)\t0.11824474756708543\n",
      "  (5155, 2748)\t0.14012977096351334\n",
      "  (5155, 5688)\t0.21204228489249063\n",
      "  (5155, 3799)\t0.18092319605107565\n",
      "  (5155, 1018)\t0.12885467280144156\n",
      "  (5155, 6696)\t0.2079832850706224\n",
      "  (5155, 2786)\t0.18705311049970647\n",
      "  (5156, 5258)\t0.5587652415535194\n",
      "  (5156, 6367)\t0.43330805071786577\n",
      "  (5156, 3476)\t0.5867800190853795\n",
      "  (5156, 4285)\t0.39460707953213714\n"
     ]
    }
   ],
   "source": [
    "from sklearn.feature_extraction.text import TfidfVectorizer\n",
    "vec = TfidfVectorizer()\n",
    "train_data = vec.fit_transform(msg)\n",
    "print(train_data)"
   ]
  },
  {
   "cell_type": "code",
   "execution_count": 16,
   "id": "fad0aaab",
   "metadata": {},
   "outputs": [
    {
     "data": {
      "text/plain": [
       "(5157, 6985)"
      ]
     },
     "execution_count": 16,
     "metadata": {},
     "output_type": "execute_result"
    }
   ],
   "source": [
    "train_data.shape"
   ]
  },
  {
   "attachments": {},
   "cell_type": "markdown",
   "id": "eabd92f3",
   "metadata": {},
   "source": [
    "I took Test data as **30%** of the total data records to maintain an optimum ratio of the \"***ham***\" and \"***spam***\" features."
   ]
  },
  {
   "cell_type": "code",
   "execution_count": 17,
   "id": "ce7a5431",
   "metadata": {},
   "outputs": [
    {
     "name": "stdout",
     "output_type": "stream",
     "text": [
      "\u001b[1m\u001b[31m-----------------------------------------\u001b[0m\n",
      "\u001b[1m\u001b[32mTrain\u001b[0m\n",
      "\u001b[1m\u001b[36mham     87.281796\n",
      "spam    12.718204\n",
      "Name: Category, dtype: float64\u001b[0m\n",
      "\u001b[1m\u001b[31m-----------------------------------------\u001b[0m\n",
      "\u001b[1m\u001b[32mTest\u001b[0m\n",
      "\u001b[1m\u001b[36mham     88.242894\n",
      "spam    11.757106\n",
      "Name: Category, dtype: float64\u001b[0m\n",
      "\u001b[1m\u001b[31m-----------------------------------------\u001b[0m\n"
     ]
    }
   ],
   "source": [
    "x_train, x_test, y_train, y_test = train_test_split(train_data, df[\"Category\"], test_size=0.3, random_state=48)\n",
    "print(cl(\"-----------------------------------------\", attrs=ATTRS, color='red'))\n",
    "print(cl(\"Train\", attrs=ATTRS, color='green'))\n",
    "print(cl(y_train.value_counts(normalize=True) * 100, attrs=ATTRS, color=COLOR))\n",
    "print(cl(\"-----------------------------------------\", attrs=ATTRS, color='red'))\n",
    "print(cl(\"Test\", attrs=ATTRS, color='green'))\n",
    "print(cl(y_test.value_counts(normalize=True) * 100, attrs=ATTRS, color=COLOR))\n",
    "print(cl(\"-----------------------------------------\", attrs=ATTRS, color='red'))"
   ]
  },
  {
   "attachments": {},
   "cell_type": "markdown",
   "id": "0ae6d231",
   "metadata": {},
   "source": [
    "We can see that the proportion of the \"***ham***\" and \"***spam***\" messages are *preserved* in the train and test split. This is important when we split the dataset. We can ***graphically*** present the portion of spam and ham messages in train and test dataset."
   ]
  },
  {
   "cell_type": "code",
   "execution_count": 18,
   "id": "86609a8e",
   "metadata": {},
   "outputs": [
    {
     "data": {
      "image/png": "[encoded data removed]",
      "text/plain": [
       "<Figure size 2000x600 with 2 Axes>"
      ]
     },
     "metadata": {},
     "output_type": "display_data"
    }
   ],
   "source": [
    "train_values = y_train.value_counts().values\n",
    "test_values = y_test.value_counts().values\n",
    "cases = y_train.value_counts().index\n",
    "explode = (0, 0.15)\n",
    "colors = [\"#FFCC5C\", \"#FF6F69\"]\n",
    "fig, ax = plt.subplots(nrows=1, ncols=2, figsize=(20, 6))\n",
    "\n",
    "ax[0].pie(\n",
    "    train_values,\n",
    "    labels=cases,\n",
    "    explode=explode,\n",
    "    shadow=True,\n",
    "    colors=colors,\n",
    "    autopct=\"%.2f%%\",\n",
    "    textprops={\"fontsize\": 15},\n",
    ")\n",
    "ax[0].set_title(\"Percentage of the Spam over Ham in TRAIN Data\", fontsize=15)\n",
    "ax[1].pie(\n",
    "    test_values,\n",
    "    labels=cases,\n",
    "    explode=explode,\n",
    "    shadow=True,\n",
    "    colors=colors,\n",
    "    autopct=\"%.2f%%\",\n",
    "    textprops={\"fontsize\": 15},\n",
    ")\n",
    "ax[1].set_title(\"Percentage of the Spam over Ham in TEST Data\", fontsize=15)\n",
    "plt.tight_layout()"
   ]
  },
  {
   "cell_type": "code",
   "execution_count": 19,
   "id": "18b48ea8",
   "metadata": {},
   "outputs": [
    {
     "data": {
      "text/plain": [
       "510     ham\n",
       "4687    ham\n",
       "4210    ham\n",
       "1379    ham\n",
       "3082    ham\n",
       "       ... \n",
       "462     ham\n",
       "991     ham\n",
       "2503    ham\n",
       "1406    ham\n",
       "2739    ham\n",
       "Name: Category, Length: 3609, dtype: object"
      ]
     },
     "execution_count": 19,
     "metadata": {},
     "output_type": "execute_result"
    }
   ],
   "source": [
    "y_train"
   ]
  },
  {
   "cell_type": "code",
   "execution_count": 20,
   "id": "3e0ecf91",
   "metadata": {},
   "outputs": [
    {
     "data": {
      "text/plain": [
       "array(['ham', 'ham', 'ham', ..., 'ham', 'spam', 'ham'], dtype='<U4')"
      ]
     },
     "execution_count": 20,
     "metadata": {},
     "output_type": "execute_result"
    }
   ],
   "source": [
    "from sklearn.naive_bayes import MultinomialNB\n",
    "nb_model = MultinomialNB()\n",
    "nb_model.fit(x_train,y_train)\n",
    "y_pred = nb_model.predict(x_test)\n",
    "y_pred"
   ]
  },
  {
   "cell_type": "code",
   "execution_count": 21,
   "id": "b3c6e285",
   "metadata": {},
   "outputs": [
    {
     "data": {
      "text/plain": [
       "1609     ham\n",
       "3611     ham\n",
       "2408     ham\n",
       "4164     ham\n",
       "4269     ham\n",
       "        ... \n",
       "2033     ham\n",
       "161      ham\n",
       "3481     ham\n",
       "2850    spam\n",
       "459      ham\n",
       "Name: Category, Length: 1548, dtype: object"
      ]
     },
     "execution_count": 21,
     "metadata": {},
     "output_type": "execute_result"
    }
   ],
   "source": [
    "y_test"
   ]
  },
  {
   "cell_type": "code",
   "execution_count": 22,
   "id": "096a6f31",
   "metadata": {},
   "outputs": [
    {
     "name": "stdout",
     "output_type": "stream",
     "text": [
      "\u001b[1m\u001b[31m-----------------------------------------\u001b[0m\n",
      "\u001b[1m\u001b[32mConfusion Matrix :\u001b[0m\n",
      "\u001b[1m\u001b[36m[[1365    1]\n",
      " [  69  113]]\u001b[0m\n",
      "\u001b[1m\u001b[31m-----------------------------------------\u001b[0m\n",
      "\u001b[1m\u001b[32mClassification Report :\u001b[0m\n",
      "\u001b[1m\u001b[36m              precision    recall  f1-score   support\n",
      "\n",
      "         ham       0.95      1.00      0.97      1366\n",
      "        spam       0.99      0.62      0.76       182\n",
      "\n",
      "    accuracy                           0.95      1548\n",
      "   macro avg       0.97      0.81      0.87      1548\n",
      "weighted avg       0.96      0.95      0.95      1548\n",
      "\u001b[0m\n",
      "\u001b[1m\u001b[31m-----------------------------------------\u001b[0m\n",
      "\u001b[1m\u001b[32mAccuracy Score Percentage :\u001b[0m\n",
      "\u001b[1m\u001b[36m95.48\u001b[0m\n",
      "\u001b[1m\u001b[31m-----------------------------------------\u001b[0m\n"
     ]
    }
   ],
   "source": [
    "print(cl(\"-----------------------------------------\", attrs=ATTRS, color='red'))\n",
    "print(cl(\"Confusion Matrix :\", attrs=ATTRS, color='green'))\n",
    "print(cl(confusion_matrix(y_test, y_pred), attrs=ATTRS, color='cyan'))\n",
    "print(cl(\"-----------------------------------------\", attrs=ATTRS, color='red'))\n",
    "print(cl(\"Classification Report :\",attrs=ATTRS, color='green'))\n",
    "print(cl(classification_report(y_test, y_pred),attrs=ATTRS, color='cyan'))\n",
    "print(cl(\"-----------------------------------------\", attrs=ATTRS, color='red'))\n",
    "print(cl(\"Accuracy Score Percentage :\",attrs=ATTRS, color='green'))\n",
    "print(cl(float(\"{:.2f}\".format(accuracy_score(y_pred,y_test)*100)),attrs=ATTRS,color='cyan'))\n",
    "print(cl(\"-----------------------------------------\", attrs=ATTRS, color='red'))"
   ]
  },
  {
   "attachments": {},
   "cell_type": "markdown",
   "id": "d751778d",
   "metadata": {},
   "source": [
    "We acquired an accuracy of **95%** using Naive Bayes Classifier."
   ]
  }
 ],
 "metadata": {
  "kernelspec": {
   "display_name": "Python 3 (ipykernel)",
   "language": "python",
   "name": "python3"
  },
  "language_info": {
   "codemirror_mode": {
    "name": "ipython",
    "version": 3
   },
   "file_extension": ".py",
   "mimetype": "text/x-python",
   "name": "python",
   "nbconvert_exporter": "python",
   "pygments_lexer": "ipython3",
   "version": "3.8.10"
  }
 },
 "nbformat": 4,
 "nbformat_minor": 5
}
